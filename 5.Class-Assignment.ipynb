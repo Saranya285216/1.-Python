{
 "cells": [
  {
   "cell_type": "code",
   "execution_count": 1,
   "id": "f5bd9f0b",
   "metadata": {},
   "outputs": [],
   "source": [
    "from VariousCategories import multipleFunctions"
   ]
  },
  {
   "cell_type": "code",
   "execution_count": null,
   "id": "5f34e6a0",
   "metadata": {},
   "outputs": [],
   "source": [
    "#Sub Fields in AI"
   ]
  },
  {
   "cell_type": "code",
   "execution_count": 2,
   "id": "6c64517f",
   "metadata": {},
   "outputs": [
    {
     "name": "stdout",
     "output_type": "stream",
     "text": [
      "Sub-Fields in AI are:\n",
      "Machine learning\n",
      "Neural Network\n",
      "Vision\n",
      "Robotics\n",
      "Speech Processing\n",
      "Natural Language Processing\n"
     ]
    },
    {
     "data": {
      "text/plain": [
       "'Natural Language Processing'"
      ]
     },
     "execution_count": 2,
     "metadata": {},
     "output_type": "execute_result"
    }
   ],
   "source": [
    "multipleFunctions.subFields()"
   ]
  },
  {
   "cell_type": "code",
   "execution_count": null,
   "id": "62641396",
   "metadata": {},
   "outputs": [],
   "source": [
    "#OddEven"
   ]
  },
  {
   "cell_type": "code",
   "execution_count": 3,
   "id": "c124316a",
   "metadata": {},
   "outputs": [
    {
     "name": "stdout",
     "output_type": "stream",
     "text": [
      "Enter a number:52452\n",
      "52452 is Even Number\n"
     ]
    },
    {
     "data": {
      "text/plain": [
       "52452"
      ]
     },
     "execution_count": 3,
     "metadata": {},
     "output_type": "execute_result"
    }
   ],
   "source": [
    "multipleFunctions.oddEven()\n"
   ]
  },
  {
   "cell_type": "code",
   "execution_count": null,
   "id": "6c2b3c17",
   "metadata": {},
   "outputs": [],
   "source": [
    "#Eligiblity for Marriage"
   ]
  },
  {
   "cell_type": "code",
   "execution_count": 4,
   "id": "c6fb6ceb",
   "metadata": {},
   "outputs": [
    {
     "name": "stdout",
     "output_type": "stream",
     "text": [
      "Enter the Gender: Male\n",
      "Enter the Age: 20\n",
      "Not Eligible\n"
     ]
    }
   ],
   "source": [
    "multipleFunctions.eligiblity()"
   ]
  },
  {
   "cell_type": "code",
   "execution_count": null,
   "id": "e624b6a1",
   "metadata": {},
   "outputs": [],
   "source": [
    "# Calculate the percentage"
   ]
  },
  {
   "cell_type": "code",
   "execution_count": 5,
   "id": "55b9b645",
   "metadata": {},
   "outputs": [
    {
     "name": "stdout",
     "output_type": "stream",
     "text": [
      "Subject1= 98\n",
      "Subject2= 80\n",
      "Subject3= 87\n",
      "Subject4= 87\n",
      "Subject5= 84\n",
      "Total:  436\n",
      "Percentage:  87.2\n"
     ]
    }
   ],
   "source": [
    "multipleFunctions.percentage()\n"
   ]
  },
  {
   "cell_type": "code",
   "execution_count": null,
   "id": "b35a54ce",
   "metadata": {},
   "outputs": [],
   "source": [
    "#Area and Perimeter of the triangle"
   ]
  },
  {
   "cell_type": "code",
   "execution_count": 6,
   "id": "a1697f89",
   "metadata": {
    "scrolled": true
   },
   "outputs": [
    {
     "name": "stdout",
     "output_type": "stream",
     "text": [
      "Height:  32\n",
      "Breadth: 34\n",
      "Area of Triangle:  544.0\n",
      "Height1:  2\n",
      "Height2:  4\n",
      "Breadth:  4\n",
      "Perimeter of Triangle:  10\n"
     ]
    }
   ],
   "source": [
    "multipleFunctions.area(32,34)\n",
    "multipleFunctions.perimeter(2,4,4)"
   ]
  },
  {
   "cell_type": "code",
   "execution_count": null,
   "id": "40f5bc99",
   "metadata": {},
   "outputs": [],
   "source": []
  }
 ],
 "metadata": {
  "kernelspec": {
   "display_name": "Python 3 (ipykernel)",
   "language": "python",
   "name": "python3"
  },
  "language_info": {
   "codemirror_mode": {
    "name": "ipython",
    "version": 3
   },
   "file_extension": ".py",
   "mimetype": "text/x-python",
   "name": "python",
   "nbconvert_exporter": "python",
   "pygments_lexer": "ipython3",
   "version": "3.11.5"
  }
 },
 "nbformat": 4,
 "nbformat_minor": 5
}
