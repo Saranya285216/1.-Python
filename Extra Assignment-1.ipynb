{
 "cells": [
  {
   "cell_type": "code",
   "execution_count": 1,
   "id": "83d142ec",
   "metadata": {},
   "outputs": [
    {
     "name": "stdout",
     "output_type": "stream",
     "text": [
      "HOPE AI\n"
     ]
    }
   ],
   "source": [
    "print(\"HOPE AI\")"
   ]
  },
  {
   "cell_type": "code",
   "execution_count": null,
   "id": "7039f486",
   "metadata": {},
   "outputs": [],
   "source": [
    "#Institute Name"
   ]
  },
  {
   "cell_type": "code",
   "execution_count": 2,
   "id": "50f7bf57",
   "metadata": {},
   "outputs": [
    {
     "name": "stdout",
     "output_type": "stream",
     "text": [
      "Enter the Institute Name:Hope AI\n"
     ]
    }
   ],
   "source": [
    "Institute= input(\"Enter the Institute Name:\")\n"
   ]
  },
  {
   "cell_type": "code",
   "execution_count": null,
   "id": "5c33f336",
   "metadata": {},
   "outputs": [],
   "source": [
    "#Input Details"
   ]
  },
  {
   "cell_type": "code",
   "execution_count": 4,
   "id": "c4f61b64",
   "metadata": {},
   "outputs": [
    {
     "name": "stdout",
     "output_type": "stream",
     "text": [
      "Enter your Name:Saranya S\n",
      "Enter your Age:30\n",
      "Enter your School Name:KCS\n",
      "Enter your Degree:BCA MBA HR\n"
     ]
    }
   ],
   "source": [
    "Name= input(\"Enter your Name:\")\n",
    "Age= input(\"Enter your Age:\")\n",
    "School= input(\"Enter your School Name:\")\n",
    "Degree= input(\"Enter your Degree:\")"
   ]
  },
  {
   "cell_type": "code",
   "execution_count": null,
   "id": "a471f903",
   "metadata": {},
   "outputs": [],
   "source": [
    "#Addition"
   ]
  },
  {
   "cell_type": "code",
   "execution_count": 5,
   "id": "1f06027d",
   "metadata": {},
   "outputs": [
    {
     "name": "stdout",
     "output_type": "stream",
     "text": [
      "A= 43\n",
      "B= 34\n",
      "Add= 77\n"
     ]
    }
   ],
   "source": [
    "A=43\n",
    "B=34\n",
    "print(\"A=\",A)\n",
    "print(\"B=\",B)\n",
    "print(\"Add=\",A+B)"
   ]
  },
  {
   "cell_type": "code",
   "execution_count": null,
   "id": "b3701173",
   "metadata": {},
   "outputs": [],
   "source": [
    "#Subtraction"
   ]
  },
  {
   "cell_type": "code",
   "execution_count": 9,
   "id": "819e696f",
   "metadata": {},
   "outputs": [
    {
     "name": "stdout",
     "output_type": "stream",
     "text": [
      "A= 43\n",
      "B= 34\n",
      "Sub= 9\n"
     ]
    }
   ],
   "source": [
    "A=43\n",
    "B=34\n",
    "print(\"A=\",A)\n",
    "print(\"B=\",B)\n",
    "print(\"Sub=\",A-B)"
   ]
  },
  {
   "cell_type": "code",
   "execution_count": null,
   "id": "4d41cda7",
   "metadata": {},
   "outputs": [],
   "source": [
    "#Multiplication"
   ]
  },
  {
   "cell_type": "code",
   "execution_count": 10,
   "id": "af7a714d",
   "metadata": {
    "scrolled": true
   },
   "outputs": [
    {
     "name": "stdout",
     "output_type": "stream",
     "text": [
      "A= 63\n",
      "B= 97\n",
      "Mul= 6111\n"
     ]
    }
   ],
   "source": [
    "A=63\n",
    "B=97\n",
    "print(\"A=\",A)\n",
    "print(\"B=\",B)\n",
    "print(\"Mul=\",A*B)"
   ]
  },
  {
   "cell_type": "code",
   "execution_count": null,
   "id": "e1f0066c",
   "metadata": {},
   "outputs": [],
   "source": [
    "#Division"
   ]
  },
  {
   "cell_type": "code",
   "execution_count": 11,
   "id": "a935472a",
   "metadata": {},
   "outputs": [
    {
     "name": "stdout",
     "output_type": "stream",
     "text": [
      "A= 76\n",
      "B= 31\n",
      "Div= 2.4516129032258065\n"
     ]
    }
   ],
   "source": [
    "A=76\n",
    "B=31\n",
    "print(\"A=\",A)\n",
    "print(\"B=\",B)\n",
    "print(\"Div=\",A/B)"
   ]
  },
  {
   "cell_type": "code",
   "execution_count": null,
   "id": "af3502c6",
   "metadata": {},
   "outputs": [],
   "source": [
    "#Floor Division"
   ]
  },
  {
   "cell_type": "code",
   "execution_count": 13,
   "id": "ee771538",
   "metadata": {},
   "outputs": [
    {
     "name": "stdout",
     "output_type": "stream",
     "text": [
      "A= 76\n",
      "B= 31\n",
      "Floor Div= 2\n"
     ]
    }
   ],
   "source": [
    "A=76\n",
    "B=31\n",
    "print(\"A=\",A)\n",
    "print(\"B=\",B)\n",
    "print(\"Floor Div=\",A//B)"
   ]
  },
  {
   "cell_type": "code",
   "execution_count": null,
   "id": "682750bb",
   "metadata": {},
   "outputs": [],
   "source": [
    "#Modulo"
   ]
  },
  {
   "cell_type": "code",
   "execution_count": 15,
   "id": "aca35e0a",
   "metadata": {},
   "outputs": [
    {
     "name": "stdout",
     "output_type": "stream",
     "text": [
      "A= 76\n",
      "B= 31\n",
      "Modulo= 14\n"
     ]
    }
   ],
   "source": [
    "A=76\n",
    "B=31\n",
    "print(\"A=\",A)\n",
    "print(\"B=\",B)\n",
    "print(\"Modulo=\",A%B)"
   ]
  },
  {
   "cell_type": "code",
   "execution_count": null,
   "id": "49aa1b90",
   "metadata": {},
   "outputs": [],
   "source": [
    "#power"
   ]
  },
  {
   "cell_type": "code",
   "execution_count": 16,
   "id": "7f2a519c",
   "metadata": {
    "scrolled": true
   },
   "outputs": [
    {
     "name": "stdout",
     "output_type": "stream",
     "text": [
      "A= 4\n",
      "B= 4\n",
      "Power= 256\n"
     ]
    }
   ],
   "source": [
    "A=4\n",
    "B=4\n",
    "print(\"A=\",A)\n",
    "print(\"B=\",B)\n",
    "print(\"Power=\",pow(A,B))"
   ]
  },
  {
   "cell_type": "code",
   "execution_count": null,
   "id": "6485d0e3",
   "metadata": {},
   "outputs": [],
   "source": []
  }
 ],
 "metadata": {
  "kernelspec": {
   "display_name": "Python 3 (ipykernel)",
   "language": "python",
   "name": "python3"
  },
  "language_info": {
   "codemirror_mode": {
    "name": "ipython",
    "version": 3
   },
   "file_extension": ".py",
   "mimetype": "text/x-python",
   "name": "python",
   "nbconvert_exporter": "python",
   "pygments_lexer": "ipython3",
   "version": "3.11.5"
  }
 },
 "nbformat": 4,
 "nbformat_minor": 5
}
