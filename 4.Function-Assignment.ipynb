{
 "cells": [
  {
   "cell_type": "code",
   "execution_count": 16,
   "id": "08846405",
   "metadata": {},
   "outputs": [],
   "source": [
    "def subFields():\n",
    "    print(\"Sub-Fields in AI are:\")\n",
    "    list=[\"Machine learning\", \"Neural Network\", \"Vision\", \"Robotics\", \"Speech Processing\", \"Natural Language Processing\"]\n",
    "    for types in list:\n",
    "        print(types)\n",
    "    return types\n"
   ]
  },
  {
   "cell_type": "code",
   "execution_count": 17,
   "id": "17dd7628",
   "metadata": {},
   "outputs": [
    {
     "name": "stdout",
     "output_type": "stream",
     "text": [
      "Sub-Fields in AI are:\n",
      "Machine learning\n",
      "Neural Network\n",
      "Vision\n",
      "Robotics\n",
      "Speech Processing\n",
      "Natural Language Processing\n"
     ]
    }
   ],
   "source": [
    "subtype=subFields()\n"
   ]
  },
  {
   "cell_type": "code",
   "execution_count": 23,
   "id": "10707a9b",
   "metadata": {},
   "outputs": [],
   "source": [
    "class SubfieldsINAI():\n",
    "    def subFields():\n",
    "        print(\"Sub-Fields in AI are:\")\n",
    "        list=[\"Machine learning\", \"Neural Network\", \"Vision\", \"Robotics\", \"Speech Processing\", \"Natural Language Processing\"]\n",
    "        for types in list:\n",
    "            print(types)\n",
    "    "
   ]
  },
  {
   "cell_type": "code",
   "execution_count": 24,
   "id": "a193c710",
   "metadata": {},
   "outputs": [
    {
     "name": "stdout",
     "output_type": "stream",
     "text": [
      "Sub-Fields in AI are:\n",
      "Machine learning\n",
      "Neural Network\n",
      "Vision\n",
      "Robotics\n",
      "Speech Processing\n",
      "Natural Language Processing\n"
     ]
    }
   ],
   "source": [
    "SubfieldsINAI.subFields()\n"
   ]
  },
  {
   "cell_type": "code",
   "execution_count": 25,
   "id": "324806b5",
   "metadata": {},
   "outputs": [
    {
     "name": "stdout",
     "output_type": "stream",
     "text": [
      "Enter a number:45125\n",
      "45125 is Odd Number\n"
     ]
    }
   ],
   "source": [
    "Num=int(input(\"Enter a number:\"))\n",
    "if(Num%2==0):\n",
    "    print(Num,\"is Even Number\")\n",
    "else:\n",
    "    print(Num, \"is Odd Number\")\n",
    "    "
   ]
  },
  {
   "cell_type": "code",
   "execution_count": 26,
   "id": "e40f7276",
   "metadata": {},
   "outputs": [],
   "source": [
    "def oddEven():\n",
    "    Num=int(input(\"Enter a number:\"))\n",
    "    if(Num%2==0):\n",
    "        print(Num,\"is Even Number\")\n",
    "    else:\n",
    "        print(Num, \"is Odd Number\")\n",
    "    return Num\n",
    "    "
   ]
  },
  {
   "cell_type": "code",
   "execution_count": 27,
   "id": "e8d4e569",
   "metadata": {},
   "outputs": [
    {
     "name": "stdout",
     "output_type": "stream",
     "text": [
      "Enter a number:4517\n",
      "4517 is Odd Number\n"
     ]
    }
   ],
   "source": [
    "Number=oddEven()\n"
   ]
  },
  {
   "cell_type": "code",
   "execution_count": 29,
   "id": "6fb1d435",
   "metadata": {},
   "outputs": [],
   "source": [
    "class ODDEVEN():\n",
    "    def oddEven():\n",
    "        Num=int(input(\"Enter a number:\"))\n",
    "        if(Num%2==0):\n",
    "            print(Num,\"is Even Number\")\n",
    "        else:\n",
    "            print(Num, \"is Odd Number\")\n",
    "        return Num\n",
    "    "
   ]
  },
  {
   "cell_type": "code",
   "execution_count": 30,
   "id": "9f5568ef",
   "metadata": {},
   "outputs": [
    {
     "name": "stdout",
     "output_type": "stream",
     "text": [
      "Enter a number:52452\n",
      "52452 is Even Number\n"
     ]
    },
    {
     "data": {
      "text/plain": [
       "52452"
      ]
     },
     "execution_count": 30,
     "metadata": {},
     "output_type": "execute_result"
    }
   ],
   "source": [
    "ODDEVEN.oddEven()\n"
   ]
  },
  {
   "cell_type": "code",
   "execution_count": 31,
   "id": "437afcf9",
   "metadata": {},
   "outputs": [
    {
     "name": "stdout",
     "output_type": "stream",
     "text": [
      "Subject1: 40\n",
      "Subject2: 98\n",
      "Total:  138\n",
      "Percentage:  69.0\n"
     ]
    }
   ],
   "source": [
    "sub1= int(input(\"Subject1: \"))\n",
    "sub2= int(input(\"Subject2: \"))\n",
    "Total= sub1+sub2\n",
    "print(\"Total: \", Total)\n",
    "print(\"Percentage: \", Total/2)\n"
   ]
  },
  {
   "cell_type": "code",
   "execution_count": 32,
   "id": "1a9ed6fd",
   "metadata": {},
   "outputs": [],
   "source": [
    "def percentage():\n",
    "    sub1= int(input(\"Subject1= \"))\n",
    "    sub2= int(input(\"Subject2= \"))\n",
    "    sub3= int(input(\"Subject3= \"))\n",
    "    sub4= int(input(\"Subject4= \"))\n",
    "    sub5= int(input(\"Subject5= \"))\n",
    "    Total= sub1+sub2\n",
    "    print(\"Total: \", Total)\n",
    "    print(\"Percentage: \", Total/2)\n",
    "    "
   ]
  },
  {
   "cell_type": "code",
   "execution_count": 33,
   "id": "b6c20046",
   "metadata": {
    "scrolled": true
   },
   "outputs": [
    {
     "name": "stdout",
     "output_type": "stream",
     "text": [
      "Subject1= 57\n",
      "Subject2= 45\n",
      "Subject3= 98\n",
      "Subject4= 76\n",
      "Subject5= 82\n",
      "Total:  102\n",
      "Percentage:  51.0\n"
     ]
    }
   ],
   "source": [
    "percent= percentage()"
   ]
  },
  {
   "cell_type": "code",
   "execution_count": 38,
   "id": "cd70aed8",
   "metadata": {},
   "outputs": [],
   "source": [
    "class TofindPercentage():\n",
    "    def percentage():\n",
    "        sub1= int(input(\"Subject1= \"))\n",
    "        sub2= int(input(\"Subject2= \"))\n",
    "        sub3= int(input(\"Subject3= \"))\n",
    "        sub4= int(input(\"Subject4= \"))\n",
    "        sub5= int(input(\"Subject5= \"))\n",
    "        Total= sub1+sub2+sub3+sub4+sub5\n",
    "        print(\"Total: \", Total)\n",
    "        print(\"Percentage: \", Total/5)\n",
    "    "
   ]
  },
  {
   "cell_type": "code",
   "execution_count": 39,
   "id": "c5704130",
   "metadata": {},
   "outputs": [
    {
     "name": "stdout",
     "output_type": "stream",
     "text": [
      "Subject1= 97\n",
      "Subject2= 80\n",
      "Subject3= 86\n",
      "Subject4= 87\n",
      "Subject5= 87\n",
      "Total:  437\n",
      "Percentage:  87.4\n"
     ]
    }
   ],
   "source": [
    "TofindPercentage.percentage()"
   ]
  },
  {
   "cell_type": "code",
   "execution_count": 42,
   "id": "863a6ebb",
   "metadata": {},
   "outputs": [],
   "source": [
    "def area(height, breadth):\n",
    "    print(\"Height: \", height)\n",
    "    print(\"Breadth:\", breadth)\n",
    "    print(\"Area of Triangle: \", height*breadth/2)\n",
    "    \n",
    "def perimeter(H1,H2,B):\n",
    "    print(\"Height1: \", H1)\n",
    "    print(\"Height2: \", H2)\n",
    "    print(\"Breadth: \", B)\n",
    "    print(\"Perimeter of Triangle: \", H1+H2+B)\n",
    "    \n",
    "    \n"
   ]
  },
  {
   "cell_type": "code",
   "execution_count": 43,
   "id": "85de5f9d",
   "metadata": {},
   "outputs": [
    {
     "name": "stdout",
     "output_type": "stream",
     "text": [
      "Height:  14\n",
      "Breadth: 56\n",
      "Area of Triangle:  392.0\n",
      "Height1:  8\n",
      "Height2:  4\n",
      "Breadth:  3\n",
      "Perimeter of Triangle:  15\n"
     ]
    }
   ],
   "source": [
    "Area=area(14,56)\n",
    "Perimeter=perimeter(8,4,3)\n"
   ]
  },
  {
   "cell_type": "code",
   "execution_count": 44,
   "id": "184afab4",
   "metadata": {},
   "outputs": [],
   "source": [
    "class triangle():\n",
    "    def area(height, breadth):\n",
    "        print(\"Height: \", height)\n",
    "        print(\"Breadth:\", breadth)\n",
    "        print(\"Area of Triangle: \", height*breadth/2)\n",
    "    \n",
    "    def perimeter(H1,H2,B):\n",
    "        print(\"Height1: \", H1)\n",
    "        print(\"Height2: \", H2)\n",
    "        print(\"Breadth: \", B)\n",
    "        print(\"Perimeter of Triangle: \", H1+H2+B)\n",
    "\n",
    "    "
   ]
  },
  {
   "cell_type": "code",
   "execution_count": 45,
   "id": "188454ab",
   "metadata": {},
   "outputs": [
    {
     "name": "stdout",
     "output_type": "stream",
     "text": [
      "Height:  32\n",
      "Breadth: 34\n",
      "Area of Triangle:  544.0\n",
      "Height1:  2\n",
      "Height2:  4\n",
      "Breadth:  4\n",
      "Perimeter of Triangle:  10\n"
     ]
    }
   ],
   "source": [
    "triangle.area(32,34)\n",
    "triangle.perimeter(2,4,4)\n"
   ]
  },
  {
   "cell_type": "code",
   "execution_count": 47,
   "id": "4e4f3119",
   "metadata": {},
   "outputs": [
    {
     "name": "stdout",
     "output_type": "stream",
     "text": [
      "Enter the Gender: Female\n",
      "Enter the Age: 25\n",
      "Eligible\n"
     ]
    }
   ],
   "source": [
    "gender=input(\"Enter the Gender: \")\n",
    "age=int(input(\"Enter the Age: \"))\n",
    "if(gender==\"Male\"):\n",
    "    if(age>=21):\n",
    "        print(\"Eligible\")\n",
    "    else:\n",
    "        print(\"Not Eligible\")\n",
    "elif(gender==\"Female\"):\n",
    "    if(age>=18):\n",
    "        print(\"Eligible\")\n",
    "    else:\n",
    "        print(\"Not Eligible\")\n",
    "else:\n",
    "    print(\"INVALID INPUT DATA\")\n",
    "    "
   ]
  },
  {
   "cell_type": "code",
   "execution_count": 48,
   "id": "2776ebdd",
   "metadata": {},
   "outputs": [],
   "source": [
    "def eligiblity():\n",
    "    gender=input(\"Enter the Gender: \")\n",
    "    age=int(input(\"Enter the Age: \"))\n",
    "    if(gender==\"Male\"):\n",
    "        if(age>=21):\n",
    "            print(\"Eligible\")\n",
    "        else:\n",
    "            print(\"Not Eligible\")\n",
    "    elif(gender==\"Female\"):\n",
    "        if(age>=18):\n",
    "            print(\"Eligible\")\n",
    "        else:\n",
    "            print(\"Not Eligible\")\n",
    "    else:\n",
    "        print(\"INVALID INPUT DATA\")\n",
    "        \n",
    "\n",
    "    "
   ]
  },
  {
   "cell_type": "code",
   "execution_count": 49,
   "id": "4a428939",
   "metadata": {},
   "outputs": [
    {
     "name": "stdout",
     "output_type": "stream",
     "text": [
      "Enter the Gender: None\n",
      "Enter the Age: 18\n",
      "INVALID INPUT DATA\n"
     ]
    }
   ],
   "source": [
    "marriage=eligiblity()\n"
   ]
  },
  {
   "cell_type": "code",
   "execution_count": 50,
   "id": "bded5d4a",
   "metadata": {},
   "outputs": [],
   "source": [
    "class MarforElig():\n",
    "    def eligiblity():\n",
    "        gender=input(\"Enter the Gender: \")\n",
    "        age=int(input(\"Enter the Age: \"))\n",
    "        if(gender==\"Male\"):\n",
    "            if(age>=21):\n",
    "                print(\"Eligible\")\n",
    "            else:\n",
    "                print(\"Not Eligible\")\n",
    "        elif(gender==\"Female\"):\n",
    "            if(age>=18):\n",
    "                print(\"Eligible\")\n",
    "            else:\n",
    "                print(\"Not Eligible\")\n",
    "        else:\n",
    "            print(\"INVALID INPUT DATA\")\n",
    "\n",
    "    "
   ]
  },
  {
   "cell_type": "code",
   "execution_count": 52,
   "id": "9530aed6",
   "metadata": {},
   "outputs": [
    {
     "name": "stdout",
     "output_type": "stream",
     "text": [
      "Enter the Gender: Male\n",
      "Enter the Age: 20\n",
      "Not Eligible\n"
     ]
    }
   ],
   "source": [
    "MarforElig.eligiblity()"
   ]
  },
  {
   "cell_type": "code",
   "execution_count": null,
   "id": "e63be00f",
   "metadata": {},
   "outputs": [],
   "source": []
  }
 ],
 "metadata": {
  "kernelspec": {
   "display_name": "Python 3 (ipykernel)",
   "language": "python",
   "name": "python3"
  },
  "language_info": {
   "codemirror_mode": {
    "name": "ipython",
    "version": 3
   },
   "file_extension": ".py",
   "mimetype": "text/x-python",
   "name": "python",
   "nbconvert_exporter": "python",
   "pygments_lexer": "ipython3",
   "version": "3.11.5"
  }
 },
 "nbformat": 4,
 "nbformat_minor": 5
}
