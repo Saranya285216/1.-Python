{
 "cells": [
  {
   "cell_type": "code",
   "execution_count": null,
   "id": "3875d84b",
   "metadata": {},
   "outputs": [],
   "source": [
    "#print the correct value"
   ]
  },
  {
   "cell_type": "code",
   "execution_count": 1,
   "id": "a96100ae",
   "metadata": {},
   "outputs": [
    {
     "name": "stdout",
     "output_type": "stream",
     "text": [
      "Enter the value: 10\n",
      "Correct Value\n"
     ]
    }
   ],
   "source": [
    "I=int(input(\"Enter the value: \"))\n",
    "if(I==10):\n",
    "    print(\"Correct Value\")"
   ]
  },
  {
   "cell_type": "code",
   "execution_count": null,
   "id": "b2ff9da1",
   "metadata": {},
   "outputs": [],
   "source": [
    "#Check the password"
   ]
  },
  {
   "cell_type": "code",
   "execution_count": 7,
   "id": "225e5492",
   "metadata": {
    "scrolled": true
   },
   "outputs": [
    {
     "name": "stdout",
     "output_type": "stream",
     "text": [
      "Enter the Password: HOPE@123\n",
      "Your Password is Correct\n"
     ]
    }
   ],
   "source": [
    "Pass=input(\"Enter the Password: \")\n",
    "Password= \"HOPE@123\"\n",
    "if(Password==\"HOPE@123\"):\n",
    "    print(\"Your Password is Correct\")\n",
    "else:\n",
    "    print(\"Your Password is Wrong\")"
   ]
  },
  {
   "cell_type": "code",
   "execution_count": null,
   "id": "6fc11c79",
   "metadata": {},
   "outputs": [],
   "source": [
    "#Marks"
   ]
  },
  {
   "cell_type": "code",
   "execution_count": 9,
   "id": "43927229",
   "metadata": {},
   "outputs": [
    {
     "name": "stdout",
     "output_type": "stream",
     "text": [
      "Enter the Mark: 74\n",
      "First Class\n"
     ]
    }
   ],
   "source": [
    "Class=int(input(\"Enter the Mark: \"))\n",
    "if(Class<=40):\n",
    "    print(\"Fail\")\n",
    "elif(Class<=60):\n",
    "    print(\"Second Class\")\n",
    "elif(Class<=80):\n",
    "    print(\"First Class\")\n",
    "else:\n",
    "    print(\"Distinction\")"
   ]
  },
  {
   "cell_type": "code",
   "execution_count": 12,
   "id": "ab477671",
   "metadata": {},
   "outputs": [
    {
     "name": "stdout",
     "output_type": "stream",
     "text": [
      "Distinction\n",
      "First Class\n",
      "Second Class\n",
      "Fail\n",
      "First Class\n"
     ]
    }
   ],
   "source": [
    "Lists=[98,76,54,32,68]\n",
    "for Class in Lists:\n",
    "    if(Class<=40):\n",
    "        print(\"Fail\")\n",
    "    elif(Class<=60):\n",
    "        print(\"Second Class\")\n",
    "    elif(Class<=80):\n",
    "        print(\"First Class\")\n",
    "    else:\n",
    "        print(\"Distinction\")"
   ]
  },
  {
   "cell_type": "code",
   "execution_count": null,
   "id": "d9ca6795",
   "metadata": {},
   "outputs": [],
   "source": [
    "#Agecategory"
   ]
  },
  {
   "cell_type": "code",
   "execution_count": 13,
   "id": "b749c63f",
   "metadata": {},
   "outputs": [
    {
     "name": "stdout",
     "output_type": "stream",
     "text": [
      "Enter the Age: 28\n",
      "Adult\n"
     ]
    }
   ],
   "source": [
    "Age= int(input(\"Enter the Age: \"))\n",
    "if(Age<18):\n",
    "    print(\"Children\")\n",
    "elif(Age<35):\n",
    "    print(\"Adult\")\n",
    "elif(Age<60):\n",
    "    print(\"Citizen\")\n",
    "else:\n",
    "    print(\"Senior Citizen\")"
   ]
  },
  {
   "cell_type": "code",
   "execution_count": null,
   "id": "e065f259",
   "metadata": {},
   "outputs": [],
   "source": [
    "#Positive or Negative"
   ]
  },
  {
   "cell_type": "code",
   "execution_count": 15,
   "id": "d55d9e3a",
   "metadata": {
    "scrolled": true
   },
   "outputs": [
    {
     "name": "stdout",
     "output_type": "stream",
     "text": [
      "Enter any number:-5\n",
      "The Number is Negative\n"
     ]
    }
   ],
   "source": [
    "Num=int(input(\"Enter any number:\"))\n",
    "if(Num>0):\n",
    "    print(\"The Number is Positive\")\n",
    "else:\n",
    "    print(\"The Number is Negative\")\n",
    "    "
   ]
  },
  {
   "cell_type": "code",
   "execution_count": null,
   "id": "04a8b829",
   "metadata": {},
   "outputs": [],
   "source": [
    "#Divisible by 5"
   ]
  },
  {
   "cell_type": "code",
   "execution_count": 17,
   "id": "ed0e2170",
   "metadata": {},
   "outputs": [
    {
     "name": "stdout",
     "output_type": "stream",
     "text": [
      "Enter the number to check: 63\n",
      "The number is not divisible by 5\n"
     ]
    }
   ],
   "source": [
    "Value=int(input(\"Enter the number to check: \"))\n",
    "if(Value%5==0):\n",
    "    print(\"The number is divisible by 5\")\n",
    "else:\n",
    "    print(\"The number is not divisible by 5\")"
   ]
  },
  {
   "cell_type": "code",
   "execution_count": null,
   "id": "1df2db95",
   "metadata": {},
   "outputs": [],
   "source": []
  }
 ],
 "metadata": {
  "kernelspec": {
   "display_name": "Python 3 (ipykernel)",
   "language": "python",
   "name": "python3"
  },
  "language_info": {
   "codemirror_mode": {
    "name": "ipython",
    "version": 3
   },
   "file_extension": ".py",
   "mimetype": "text/x-python",
   "name": "python",
   "nbconvert_exporter": "python",
   "pygments_lexer": "ipython3",
   "version": "3.11.5"
  }
 },
 "nbformat": 4,
 "nbformat_minor": 5
}
