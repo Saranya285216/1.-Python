{
 "cells": [
  {
   "cell_type": "code",
   "execution_count": 1,
   "id": "5fa835de",
   "metadata": {},
   "outputs": [
    {
     "name": "stdout",
     "output_type": "stream",
     "text": [
      "Welcome to Assignment-1\n"
     ]
    }
   ],
   "source": [
    "print(\"Welcome to Assignment-1\")"
   ]
  },
  {
   "cell_type": "code",
   "execution_count": null,
   "id": "31f70c4f",
   "metadata": {},
   "outputs": [],
   "source": [
    "#Addition"
   ]
  },
  {
   "cell_type": "code",
   "execution_count": 2,
   "id": "d8575179",
   "metadata": {},
   "outputs": [
    {
     "name": "stdout",
     "output_type": "stream",
     "text": [
      "Num1= 10\n",
      "Num2= 30\n",
      "Add= 40\n"
     ]
    }
   ],
   "source": [
    "Num1= 10\n",
    "Num2= 30\n",
    "print(\"Num1= 10\")\n",
    "print(\"Num2= 30\")\n",
    "print(\"Add=\", Num1+Num2)"
   ]
  },
  {
   "cell_type": "code",
   "execution_count": null,
   "id": "b4dd82f5",
   "metadata": {},
   "outputs": [],
   "source": [
    "#BMI Index"
   ]
  },
  {
   "cell_type": "code",
   "execution_count": 5,
   "id": "f4807a12",
   "metadata": {},
   "outputs": [
    {
     "name": "stdout",
     "output_type": "stream",
     "text": [
      "Enter the BMI index value:15\n",
      "Underweight\n",
      "Minimal Health Risk\n"
     ]
    }
   ],
   "source": [
    "index=int(input(\"Enter the BMI index value:\"))\n",
    "if(index<18):\n",
    "    print(\"Underweight\")\n",
    "    print(\"Minimal Health Risk\")"
   ]
  },
  {
   "cell_type": "code",
   "execution_count": 6,
   "id": "74e63cf4",
   "metadata": {},
   "outputs": [
    {
     "name": "stdout",
     "output_type": "stream",
     "text": [
      "Enter the BMI index value:34\n",
      "Overweight\n",
      "Increased Health Risk\n"
     ]
    }
   ],
   "source": [
    "index=int(input(\"Enter the BMI index value:\"))\n",
    "if(index<18):\n",
    "    print(\"Underweight\")\n",
    "    print(\"Minimal Health Risk\")\n",
    "elif(index<25):\n",
    "    print(\"Normal\")\n",
    "    print(\"Minimal Health Risk\")\n",
    "elif(index<35):\n",
    "    print(\"Overweight\")\n",
    "    print(\"Increased Health Risk\")\n",
    "elif(index<45):\n",
    "    print(\"Obese\")\n",
    "    print(\"High Health Risk\")\n",
    "else:\n",
    "    print(\"Severly Obese\")\n",
    "    print(\"Very High health Risk\")"
   ]
  },
  {
   "cell_type": "code",
   "execution_count": 7,
   "id": "e3ce6fc1",
   "metadata": {},
   "outputs": [
    {
     "name": "stdout",
     "output_type": "stream",
     "text": [
      "Enter the BMI index value:50\n",
      "Severly Obese\n",
      "Very High health Risk\n"
     ]
    }
   ],
   "source": [
    "index=int(input(\"Enter the BMI index value:\"))\n",
    "if(index<18):\n",
    "    print(\"Underweight\")\n",
    "    print(\"Minimal Health Risk\")\n",
    "elif(index<25):\n",
    "    print(\"Normal\")\n",
    "    print(\"Minimal Health Risk\")\n",
    "elif(index<35):\n",
    "    print(\"Overweight\")\n",
    "    print(\"Increased Health Risk\")\n",
    "elif(index<45):\n",
    "    print(\"Obese\")\n",
    "    print(\"High Health Risk\")\n",
    "else:\n",
    "    print(\"Severly Obese\")\n",
    "    print(\"Very High health Risk\")"
   ]
  },
  {
   "cell_type": "code",
   "execution_count": null,
   "id": "74f8e311",
   "metadata": {},
   "outputs": [],
   "source": []
  }
 ],
 "metadata": {
  "kernelspec": {
   "display_name": "Python 3 (ipykernel)",
   "language": "python",
   "name": "python3"
  },
  "language_info": {
   "codemirror_mode": {
    "name": "ipython",
    "version": 3
   },
   "file_extension": ".py",
   "mimetype": "text/x-python",
   "name": "python",
   "nbconvert_exporter": "python",
   "pygments_lexer": "ipython3",
   "version": "3.11.5"
  }
 },
 "nbformat": 4,
 "nbformat_minor": 5
}
